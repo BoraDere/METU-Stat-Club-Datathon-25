{
 "cells": [
  {
   "cell_type": "markdown",
   "id": "1a74cd80",
   "metadata": {},
   "source": [
    "## 0- Imports and Constants"
   ]
  },
  {
   "cell_type": "code",
   "execution_count": null,
   "id": "5563f81a",
   "metadata": {},
   "outputs": [],
   "source": [
    "import os\n",
    "import pandas as pd\n",
    "import matplotlib.pyplot as plt\n",
    "import numpy as np\n",
    "from statsmodels.stats.proportion import proportions_ztest"
   ]
  },
  {
   "cell_type": "code",
   "execution_count": 19,
   "id": "7bca3750",
   "metadata": {},
   "outputs": [],
   "source": [
    "DATA_PATH = os.path.join(os.getcwd(), 'A_B Test Results - Test Results.csv')"
   ]
  },
  {
   "cell_type": "code",
   "execution_count": 20,
   "id": "8041f6e2",
   "metadata": {},
   "outputs": [],
   "source": [
    "df = pd.read_csv(DATA_PATH, skiprows=1)\n",
    "\n",
    "df['Control'] = df['Control'].str.replace(',', '').astype(float)\n",
    "df['Treatment'] = df['Treatment'].str.replace(',', '').astype(float)"
   ]
  },
  {
   "cell_type": "code",
   "execution_count": 21,
   "id": "dcbc75b7",
   "metadata": {},
   "outputs": [
    {
     "data": {
      "text/html": [
       "<div>\n",
       "<style scoped>\n",
       "    .dataframe tbody tr th:only-of-type {\n",
       "        vertical-align: middle;\n",
       "    }\n",
       "\n",
       "    .dataframe tbody tr th {\n",
       "        vertical-align: top;\n",
       "    }\n",
       "\n",
       "    .dataframe thead th {\n",
       "        text-align: right;\n",
       "    }\n",
       "</style>\n",
       "<table border=\"1\" class=\"dataframe\">\n",
       "  <thead>\n",
       "    <tr style=\"text-align: right;\">\n",
       "      <th></th>\n",
       "      <th>Metric Category</th>\n",
       "      <th>Metric Name</th>\n",
       "      <th>Control</th>\n",
       "      <th>Treatment</th>\n",
       "    </tr>\n",
       "  </thead>\n",
       "  <tbody>\n",
       "    <tr>\n",
       "      <th>0</th>\n",
       "      <td>Participants</td>\n",
       "      <td>user_counts</td>\n",
       "      <td>5191.0</td>\n",
       "      <td>5314.0</td>\n",
       "    </tr>\n",
       "    <tr>\n",
       "      <th>1</th>\n",
       "      <td>Account Type Switches</td>\n",
       "      <td>Free_to_Paid</td>\n",
       "      <td>4719.0</td>\n",
       "      <td>4603.0</td>\n",
       "    </tr>\n",
       "    <tr>\n",
       "      <th>2</th>\n",
       "      <td>Account Type Switches</td>\n",
       "      <td>Paid_to_Free</td>\n",
       "      <td>1056.0</td>\n",
       "      <td>1088.0</td>\n",
       "    </tr>\n",
       "    <tr>\n",
       "      <th>3</th>\n",
       "      <td>Account Type Switches</td>\n",
       "      <td>upsell</td>\n",
       "      <td>360.0</td>\n",
       "      <td>362.0</td>\n",
       "    </tr>\n",
       "    <tr>\n",
       "      <th>4</th>\n",
       "      <td>Account Type Switches</td>\n",
       "      <td>downgrade</td>\n",
       "      <td>1069.0</td>\n",
       "      <td>1106.0</td>\n",
       "    </tr>\n",
       "    <tr>\n",
       "      <th>...</th>\n",
       "      <td>...</td>\n",
       "      <td>...</td>\n",
       "      <td>...</td>\n",
       "      <td>...</td>\n",
       "    </tr>\n",
       "    <tr>\n",
       "      <th>122</th>\n",
       "      <td>Template</td>\n",
       "      <td>_5Plus_Table_Clones</td>\n",
       "      <td>2.0</td>\n",
       "      <td>2.0</td>\n",
       "    </tr>\n",
       "    <tr>\n",
       "      <th>123</th>\n",
       "      <td>Template</td>\n",
       "      <td>_1Plus_PDF_Clones</td>\n",
       "      <td>429.0</td>\n",
       "      <td>363.0</td>\n",
       "    </tr>\n",
       "    <tr>\n",
       "      <th>124</th>\n",
       "      <td>Template</td>\n",
       "      <td>_5Plus_PDF_Clones</td>\n",
       "      <td>23.0</td>\n",
       "      <td>11.0</td>\n",
       "    </tr>\n",
       "    <tr>\n",
       "      <th>125</th>\n",
       "      <td>Template</td>\n",
       "      <td>_1Plus_Any_App_Clones</td>\n",
       "      <td>159.0</td>\n",
       "      <td>159.0</td>\n",
       "    </tr>\n",
       "    <tr>\n",
       "      <th>126</th>\n",
       "      <td>Template</td>\n",
       "      <td>_5Plus_Any_App_Clones</td>\n",
       "      <td>3.0</td>\n",
       "      <td>7.0</td>\n",
       "    </tr>\n",
       "  </tbody>\n",
       "</table>\n",
       "<p>127 rows × 4 columns</p>\n",
       "</div>"
      ],
      "text/plain": [
       "           Metric Category            Metric Name  Control  Treatment\n",
       "0             Participants            user_counts   5191.0     5314.0\n",
       "1    Account Type Switches           Free_to_Paid   4719.0     4603.0\n",
       "2    Account Type Switches           Paid_to_Free   1056.0     1088.0\n",
       "3    Account Type Switches                 upsell    360.0      362.0\n",
       "4    Account Type Switches              downgrade   1069.0     1106.0\n",
       "..                     ...                    ...      ...        ...\n",
       "122               Template    _5Plus_Table_Clones      2.0        2.0\n",
       "123               Template      _1Plus_PDF_Clones    429.0      363.0\n",
       "124               Template      _5Plus_PDF_Clones     23.0       11.0\n",
       "125               Template  _1Plus_Any_App_Clones    159.0      159.0\n",
       "126               Template  _5Plus_Any_App_Clones      3.0        7.0\n",
       "\n",
       "[127 rows x 4 columns]"
      ]
     },
     "execution_count": 21,
     "metadata": {},
     "output_type": "execute_result"
    }
   ],
   "source": [
    "df"
   ]
  },
  {
   "cell_type": "code",
   "execution_count": 22,
   "id": "a5fd6636",
   "metadata": {},
   "outputs": [
    {
     "name": "stdout",
     "output_type": "stream",
     "text": [
      "<class 'pandas.core.frame.DataFrame'>\n",
      "RangeIndex: 127 entries, 0 to 126\n",
      "Data columns (total 4 columns):\n",
      " #   Column           Non-Null Count  Dtype  \n",
      "---  ------           --------------  -----  \n",
      " 0   Metric Category  127 non-null    object \n",
      " 1   Metric Name      127 non-null    object \n",
      " 2   Control          127 non-null    float64\n",
      " 3   Treatment        127 non-null    float64\n",
      "dtypes: float64(2), object(2)\n",
      "memory usage: 4.1+ KB\n"
     ]
    }
   ],
   "source": [
    "df.info()"
   ]
  },
  {
   "cell_type": "code",
   "execution_count": 23,
   "id": "025b1cc3",
   "metadata": {},
   "outputs": [],
   "source": [
    "df_to_use = df.copy()\n",
    "df_to_use['Control'] = df_to_use['Control'].astype(float)\n",
    "df_to_use['Treatment'] = df_to_use['Treatment'].astype(float)\n",
    "df_to_use.set_index('Metric Name', inplace=True)\n",
    "df_to_use.drop(columns=['Metric Category'], inplace=True)"
   ]
  },
  {
   "cell_type": "code",
   "execution_count": 24,
   "id": "d0a203e8",
   "metadata": {},
   "outputs": [
    {
     "data": {
      "text/html": [
       "<div>\n",
       "<style scoped>\n",
       "    .dataframe tbody tr th:only-of-type {\n",
       "        vertical-align: middle;\n",
       "    }\n",
       "\n",
       "    .dataframe tbody tr th {\n",
       "        vertical-align: top;\n",
       "    }\n",
       "\n",
       "    .dataframe thead th {\n",
       "        text-align: right;\n",
       "    }\n",
       "</style>\n",
       "<table border=\"1\" class=\"dataframe\">\n",
       "  <thead>\n",
       "    <tr style=\"text-align: right;\">\n",
       "      <th></th>\n",
       "      <th>Control</th>\n",
       "      <th>Treatment</th>\n",
       "    </tr>\n",
       "    <tr>\n",
       "      <th>Metric Name</th>\n",
       "      <th></th>\n",
       "      <th></th>\n",
       "    </tr>\n",
       "  </thead>\n",
       "  <tbody>\n",
       "    <tr>\n",
       "      <th>user_counts</th>\n",
       "      <td>5191.0</td>\n",
       "      <td>5314.0</td>\n",
       "    </tr>\n",
       "    <tr>\n",
       "      <th>Free_to_Paid</th>\n",
       "      <td>4719.0</td>\n",
       "      <td>4603.0</td>\n",
       "    </tr>\n",
       "    <tr>\n",
       "      <th>Paid_to_Free</th>\n",
       "      <td>1056.0</td>\n",
       "      <td>1088.0</td>\n",
       "    </tr>\n",
       "    <tr>\n",
       "      <th>upsell</th>\n",
       "      <td>360.0</td>\n",
       "      <td>362.0</td>\n",
       "    </tr>\n",
       "    <tr>\n",
       "      <th>downgrade</th>\n",
       "      <td>1069.0</td>\n",
       "      <td>1106.0</td>\n",
       "    </tr>\n",
       "    <tr>\n",
       "      <th>...</th>\n",
       "      <td>...</td>\n",
       "      <td>...</td>\n",
       "    </tr>\n",
       "    <tr>\n",
       "      <th>_5Plus_Table_Clones</th>\n",
       "      <td>2.0</td>\n",
       "      <td>2.0</td>\n",
       "    </tr>\n",
       "    <tr>\n",
       "      <th>_1Plus_PDF_Clones</th>\n",
       "      <td>429.0</td>\n",
       "      <td>363.0</td>\n",
       "    </tr>\n",
       "    <tr>\n",
       "      <th>_5Plus_PDF_Clones</th>\n",
       "      <td>23.0</td>\n",
       "      <td>11.0</td>\n",
       "    </tr>\n",
       "    <tr>\n",
       "      <th>_1Plus_Any_App_Clones</th>\n",
       "      <td>159.0</td>\n",
       "      <td>159.0</td>\n",
       "    </tr>\n",
       "    <tr>\n",
       "      <th>_5Plus_Any_App_Clones</th>\n",
       "      <td>3.0</td>\n",
       "      <td>7.0</td>\n",
       "    </tr>\n",
       "  </tbody>\n",
       "</table>\n",
       "<p>127 rows × 2 columns</p>\n",
       "</div>"
      ],
      "text/plain": [
       "                       Control  Treatment\n",
       "Metric Name                              \n",
       "user_counts             5191.0     5314.0\n",
       "Free_to_Paid            4719.0     4603.0\n",
       "Paid_to_Free            1056.0     1088.0\n",
       "upsell                   360.0      362.0\n",
       "downgrade               1069.0     1106.0\n",
       "...                        ...        ...\n",
       "_5Plus_Table_Clones        2.0        2.0\n",
       "_1Plus_PDF_Clones        429.0      363.0\n",
       "_5Plus_PDF_Clones         23.0       11.0\n",
       "_1Plus_Any_App_Clones    159.0      159.0\n",
       "_5Plus_Any_App_Clones      3.0        7.0\n",
       "\n",
       "[127 rows x 2 columns]"
      ]
     },
     "execution_count": 24,
     "metadata": {},
     "output_type": "execute_result"
    }
   ],
   "source": [
    "df_to_use"
   ]
  },
  {
   "cell_type": "markdown",
   "id": "ee134c74",
   "metadata": {},
   "source": [
    "## 1- Understanding the Problem"
   ]
  },
  {
   "cell_type": "markdown",
   "id": "52f1c36e",
   "metadata": {},
   "source": [
    "We have 2 groups in this test, which are Control and Treatment. Their spesifications are:\n",
    "* Control Group: Users who signed up and subscribed **without** mandatory 3DS authentication in the first 2 hours\n",
    "* Treatment Group: Users who signed up and **had to** complete 3DS verification before subscribing\n",
    "\n",
    "We are asked to assess the test results for these 2 groups to decide if the hypothesis holds."
   ]
  },
  {
   "cell_type": "markdown",
   "id": "e306166d",
   "metadata": {},
   "source": [
    "### Hypothesis\n",
    ">Mandating 3DS authentication for early subscribers will result in a measurable decrease in both fraud-related account suspensions and refund volumes, compared to users who are not subject to 3DS.\n",
    "\n",
    "Which makes sense for starters. Because, as also mentioned in the rationale part, \"Fraudulent actors often attempt to exploit platforms **immediately after** signing up by using stolen credit cards.\" This extra verification layer (3DS) might be disincentive for frauds or be helpful in the discrimination of fraudulent activities."
   ]
  },
  {
   "cell_type": "markdown",
   "id": "0202b9c7",
   "metadata": {},
   "source": [
    "### What makes a user fraudulent?\n",
    "As stated in the explanation, their accounts are suspended, and the full amount paid is refunded if a user is marked as fraudulent. So, the metrics that I think would be helpful for this scenario are:\n",
    "- suspended_user_counts\n",
    "- refund_users\n",
    "- P1_During_Test\n",
    "- P7_During_Test\n",
    "- P30_During_Test\n",
    "- P60_During_Test\n",
    "- P90_During_Test\n",
    "- support_requests\n",
    "- Free_to_Paid"
   ]
  },
  {
   "cell_type": "markdown",
   "id": "31f56bbb",
   "metadata": {},
   "source": [
    "## 2- Code-intensive Part"
   ]
  },
  {
   "cell_type": "code",
   "execution_count": 25,
   "id": "9c6fe0b8",
   "metadata": {},
   "outputs": [],
   "source": [
    "# total votes \n",
    "control_users = df_to_use.loc['user_counts', 'Control']\n",
    "treatment_users = df_to_use.loc['user_counts', 'Treatment']"
   ]
  },
  {
   "cell_type": "markdown",
   "id": "0092a530",
   "metadata": {},
   "source": [
    "### 2.1- Statistical Significance Testing"
   ]
  },
  {
   "cell_type": "markdown",
   "id": "a6aa378e",
   "metadata": {},
   "source": [
    "In this part, I test the hypothesis using statistical significance testing method. At first, I normalize the data since the 2 groups are of different sizes. Then, I compute the percentage difference to represent the relative impact. After that comes the statistical test, which uses Z-test to determine whether the observed differences could have occured by chance. I use p < 0.05, meaning there is less than a 5% probability that the observed difference occurred by chance alone."
   ]
  },
  {
   "cell_type": "code",
   "execution_count": 26,
   "id": "aa87806e",
   "metadata": {},
   "outputs": [],
   "source": [
    "def perform_statistical_tests(df, metrics, control_users, treatment_users):\n",
    "    results = []\n",
    "    \n",
    "    for metric in metrics:\n",
    "        control_value = df.loc[metric, 'Control']\n",
    "        treatment_value = df.loc[metric, 'Treatment']\n",
    "        \n",
    "        # rates per user\n",
    "        control_rate = control_value / control_users\n",
    "        treatment_rate = treatment_value / treatment_users\n",
    "        \n",
    "        # percentage difference\n",
    "        pct_diff = ((treatment_rate - control_rate) / control_rate) * 100\n",
    "        \n",
    "        # z-test for proportions\n",
    "        count = [control_value, treatment_value]\n",
    "        nobs = [control_users, treatment_users]\n",
    "        \n",
    "        try:\n",
    "            z_stat, p_value = proportions_ztest(count, nobs)\n",
    "            significant = p_value < 0.05\n",
    "        except:\n",
    "            z_stat, p_value, significant = None, None, False\n",
    "        \n",
    "        results.append({\n",
    "            'Metric': metric,\n",
    "            'Control Count': control_value,\n",
    "            'Treatment Count': treatment_value,\n",
    "            'Control Rate': control_rate,\n",
    "            'Treatment Rate': treatment_rate,\n",
    "            'Percent Diff': pct_diff,\n",
    "            'Z-Statistic': z_stat,\n",
    "            'P-Value': p_value,\n",
    "            'Significant': significant\n",
    "        })\n",
    "    \n",
    "    return pd.DataFrame(results)"
   ]
  },
  {
   "cell_type": "markdown",
   "id": "82248aa0",
   "metadata": {},
   "source": [
    "Here I define the key metrics that I will be using. To explain why I'm choosing them:\n",
    "\n",
    "**Signups:**\n",
    "- suspended_user_counts: Direct measure of accounts flagged as fraudulent\n",
    "\n",
    "**Payments:**\n",
    "- refund_users: Users requesting refunds\n",
    "\n",
    "**Support:**\n",
    "- support_requests: Users needing assistance, potentially indicating friction\n",
    "\n",
    "**Account Type Switches:**\n",
    "- Free_to_Paid: Conversion from free to paid accounts\n",
    "\n",
    "**Payments:**\n",
    "- Payment retention metrics (P1_During_Test through P90_During_Test): Users still paying after specific time periods (1, 7, 30, 60, and 90 days)"
   ]
  },
  {
   "cell_type": "code",
   "execution_count": 27,
   "id": "510eb99c",
   "metadata": {},
   "outputs": [],
   "source": [
    "key_metrics = [\n",
    "    'suspended_user_counts',\n",
    "    'refund_users',\n",
    "    'P1_During_Test',\n",
    "    'P7_During_Test',\n",
    "    'P30_During_Test',\n",
    "    'P60_During_Test',\n",
    "    'P90_During_Test',\n",
    "    'support_requests',\n",
    "    'Free_to_Paid'\n",
    "]"
   ]
  },
  {
   "cell_type": "code",
   "execution_count": 28,
   "id": "0661446b",
   "metadata": {},
   "outputs": [
    {
     "data": {
      "text/html": [
       "<div>\n",
       "<style scoped>\n",
       "    .dataframe tbody tr th:only-of-type {\n",
       "        vertical-align: middle;\n",
       "    }\n",
       "\n",
       "    .dataframe tbody tr th {\n",
       "        vertical-align: top;\n",
       "    }\n",
       "\n",
       "    .dataframe thead th {\n",
       "        text-align: right;\n",
       "    }\n",
       "</style>\n",
       "<table border=\"1\" class=\"dataframe\">\n",
       "  <thead>\n",
       "    <tr style=\"text-align: right;\">\n",
       "      <th></th>\n",
       "      <th>Metric</th>\n",
       "      <th>Control Count</th>\n",
       "      <th>Treatment Count</th>\n",
       "      <th>Control Rate</th>\n",
       "      <th>Treatment Rate</th>\n",
       "      <th>Percent Diff</th>\n",
       "      <th>Z-Statistic</th>\n",
       "      <th>P-Value</th>\n",
       "      <th>Significant</th>\n",
       "    </tr>\n",
       "  </thead>\n",
       "  <tbody>\n",
       "    <tr>\n",
       "      <th>0</th>\n",
       "      <td>suspended_user_counts</td>\n",
       "      <td>506.0</td>\n",
       "      <td>382.0</td>\n",
       "      <td>0.097476</td>\n",
       "      <td>0.071886</td>\n",
       "      <td>-26.253345</td>\n",
       "      <td>4.714028</td>\n",
       "      <td>2.428672e-06</td>\n",
       "      <td>True</td>\n",
       "    </tr>\n",
       "    <tr>\n",
       "      <th>1</th>\n",
       "      <td>refund_users</td>\n",
       "      <td>165.0</td>\n",
       "      <td>205.0</td>\n",
       "      <td>0.031786</td>\n",
       "      <td>0.038577</td>\n",
       "      <td>21.366659</td>\n",
       "      <td>-1.887953</td>\n",
       "      <td>5.903230e-02</td>\n",
       "      <td>False</td>\n",
       "    </tr>\n",
       "    <tr>\n",
       "      <th>2</th>\n",
       "      <td>P1_During_Test</td>\n",
       "      <td>1160.0</td>\n",
       "      <td>1394.0</td>\n",
       "      <td>0.223464</td>\n",
       "      <td>0.262326</td>\n",
       "      <td>17.390854</td>\n",
       "      <td>-4.642382</td>\n",
       "      <td>3.444154e-06</td>\n",
       "      <td>True</td>\n",
       "    </tr>\n",
       "    <tr>\n",
       "      <th>3</th>\n",
       "      <td>P7_During_Test</td>\n",
       "      <td>1192.0</td>\n",
       "      <td>1445.0</td>\n",
       "      <td>0.229628</td>\n",
       "      <td>0.271923</td>\n",
       "      <td>18.418913</td>\n",
       "      <td>-4.998461</td>\n",
       "      <td>5.778971e-07</td>\n",
       "      <td>True</td>\n",
       "    </tr>\n",
       "    <tr>\n",
       "      <th>4</th>\n",
       "      <td>P30_During_Test</td>\n",
       "      <td>1207.0</td>\n",
       "      <td>1478.0</td>\n",
       "      <td>0.232518</td>\n",
       "      <td>0.278133</td>\n",
       "      <td>19.618029</td>\n",
       "      <td>-5.358835</td>\n",
       "      <td>8.376014e-08</td>\n",
       "      <td>True</td>\n",
       "    </tr>\n",
       "    <tr>\n",
       "      <th>5</th>\n",
       "      <td>P60_During_Test</td>\n",
       "      <td>1228.0</td>\n",
       "      <td>1513.0</td>\n",
       "      <td>0.236563</td>\n",
       "      <td>0.284720</td>\n",
       "      <td>20.356636</td>\n",
       "      <td>-5.619406</td>\n",
       "      <td>1.916155e-08</td>\n",
       "      <td>True</td>\n",
       "    </tr>\n",
       "    <tr>\n",
       "      <th>6</th>\n",
       "      <td>P90_During_Test</td>\n",
       "      <td>1241.0</td>\n",
       "      <td>1527.0</td>\n",
       "      <td>0.239068</td>\n",
       "      <td>0.287354</td>\n",
       "      <td>20.197860</td>\n",
       "      <td>-5.616827</td>\n",
       "      <td>1.944955e-08</td>\n",
       "      <td>True</td>\n",
       "    </tr>\n",
       "    <tr>\n",
       "      <th>7</th>\n",
       "      <td>support_requests</td>\n",
       "      <td>901.0</td>\n",
       "      <td>840.0</td>\n",
       "      <td>0.173570</td>\n",
       "      <td>0.158073</td>\n",
       "      <td>-8.928189</td>\n",
       "      <td>2.135605</td>\n",
       "      <td>3.271165e-02</td>\n",
       "      <td>True</td>\n",
       "    </tr>\n",
       "    <tr>\n",
       "      <th>8</th>\n",
       "      <td>Free_to_Paid</td>\n",
       "      <td>4719.0</td>\n",
       "      <td>4603.0</td>\n",
       "      <td>0.909073</td>\n",
       "      <td>0.866202</td>\n",
       "      <td>-4.715891</td>\n",
       "      <td>6.949445</td>\n",
       "      <td>3.667261e-12</td>\n",
       "      <td>True</td>\n",
       "    </tr>\n",
       "  </tbody>\n",
       "</table>\n",
       "</div>"
      ],
      "text/plain": [
       "                  Metric  Control Count  Treatment Count  Control Rate  \\\n",
       "0  suspended_user_counts          506.0            382.0      0.097476   \n",
       "1           refund_users          165.0            205.0      0.031786   \n",
       "2         P1_During_Test         1160.0           1394.0      0.223464   \n",
       "3         P7_During_Test         1192.0           1445.0      0.229628   \n",
       "4        P30_During_Test         1207.0           1478.0      0.232518   \n",
       "5        P60_During_Test         1228.0           1513.0      0.236563   \n",
       "6        P90_During_Test         1241.0           1527.0      0.239068   \n",
       "7       support_requests          901.0            840.0      0.173570   \n",
       "8           Free_to_Paid         4719.0           4603.0      0.909073   \n",
       "\n",
       "   Treatment Rate  Percent Diff  Z-Statistic       P-Value  Significant  \n",
       "0        0.071886    -26.253345     4.714028  2.428672e-06         True  \n",
       "1        0.038577     21.366659    -1.887953  5.903230e-02        False  \n",
       "2        0.262326     17.390854    -4.642382  3.444154e-06         True  \n",
       "3        0.271923     18.418913    -4.998461  5.778971e-07         True  \n",
       "4        0.278133     19.618029    -5.358835  8.376014e-08         True  \n",
       "5        0.284720     20.356636    -5.619406  1.916155e-08         True  \n",
       "6        0.287354     20.197860    -5.616827  1.944955e-08         True  \n",
       "7        0.158073     -8.928189     2.135605  3.271165e-02         True  \n",
       "8        0.866202     -4.715891     6.949445  3.667261e-12         True  "
      ]
     },
     "execution_count": 28,
     "metadata": {},
     "output_type": "execute_result"
    }
   ],
   "source": [
    "stats_results = perform_statistical_tests(df_to_use, key_metrics, control_users, treatment_users)\n",
    "stats_results"
   ]
  },
  {
   "cell_type": "markdown",
   "id": "2fb365d4",
   "metadata": {},
   "source": [
    "Statistics don't lie (unless they do). Based on the significance test that I've done, the hypothesis seems to hold for 8/9 metrics. If I'm to highlight some points:\n",
    "- Only non-significant result is produced by refund_users. This might indicate 2 things: \n",
    "    - It really isn't significant. Which might be considered true intuitively, since refund can be done in a broad variety of cases. \n",
    "    - It is significant to a certain point, which are actually the cases other than the actual fraudulent acts. This is more sound intuitively, and explains the small difference between p-value and 0.05.\n",
    "- Examining the other metrics, all but support_requests has a really low p-value. This shows an incredible statistical significance. support_requests also produces a p-value smaller than 0.05 but not as small as the others. This can be accepted as similar to the second situation with the refund_users."
   ]
  },
  {
   "cell_type": "markdown",
   "id": "0566b96e",
   "metadata": {},
   "source": [
    "Now, to visualize on these statistics:"
   ]
  },
  {
   "cell_type": "code",
   "execution_count": 29,
   "id": "1e48a7da",
   "metadata": {},
   "outputs": [
    {
     "data": {
      "text/plain": [
       "<Figure size 1400x800 with 0 Axes>"
      ]
     },
     "metadata": {},
     "output_type": "display_data"
    },
    {
     "data": {
      "image/png": "[encoded data removed]",
      "text/plain": [
       "<Figure size 1400x800 with 1 Axes>"
      ]
     },
     "metadata": {},
     "output_type": "display_data"
    }
   ],
   "source": [
    "# rates per 1000 users for better visualization\n",
    "stats_results['Control Rate (per 1000)'] = stats_results['Control Rate'] * 1000\n",
    "stats_results['Treatment Rate (per 1000)'] = stats_results['Treatment Rate'] * 1000\n",
    "\n",
    "# bar chart comparing key metrics\n",
    "plt.figure(figsize=(14, 8))\n",
    "metrics = stats_results['Metric'].tolist()\n",
    "metrics_display = [m.replace('_', ' ').title() for m in metrics]\n",
    "\n",
    "x = np.arange(len(metrics))\n",
    "width = 0.35\n",
    "\n",
    "fig, ax = plt.subplots(figsize=(14, 8))\n",
    "bars1 = ax.bar(x - width/2, stats_results['Control Rate (per 1000)'], width, label='Control')\n",
    "bars2 = ax.bar(x + width/2, stats_results['Treatment Rate (per 1000)'], width, label='Treatment')\n",
    "\n",
    "# annotate significant differences with asterisks\n",
    "for i, is_significant in enumerate(stats_results['Significant']):\n",
    "    if is_significant:\n",
    "        max_height = max(stats_results['Control Rate (per 1000)'][i], stats_results['Treatment Rate (per 1000)'][i])\n",
    "        ax.text(i, max_height + 15, '*', ha='center', fontsize=16)\n",
    "\n",
    "for i, pct in enumerate(stats_results['Percent Diff']):\n",
    "    y_pos = max(stats_results['Control Rate (per 1000)'][i], stats_results['Treatment Rate (per 1000)'][i]) + 10\n",
    "    color = 'green' if pct > 0 else 'red'\n",
    "    if metrics[i] == 'suspended_user_counts':  # special case: negative is good for suspended accounts\n",
    "        color = 'green' if pct < 0 else 'red'\n",
    "    ax.text(i, y_pos, f\"{pct:.1f}%\", ha='center', color=color, fontweight='bold')\n",
    "\n",
    "ax.set_ylabel('Rate per 1000 Users')\n",
    "ax.set_title('Key Metrics Comparison: Control vs Treatment')\n",
    "ax.set_xticks(x)\n",
    "ax.set_xticklabels(metrics_display, rotation=45, ha='right')\n",
    "ax.legend()\n",
    "\n",
    "plt.tight_layout()\n",
    "plt.show()"
   ]
  },
  {
   "cell_type": "markdown",
   "id": "e119ef6a",
   "metadata": {},
   "source": [
    "Here we can see and compare the change better. 26 percent of drop in Suspended User Counts is highly motivating. This is actually the main metric that should be considered, and here we see a big drop and an asterisk (*), stating that this statistic is significant."
   ]
  },
  {
   "cell_type": "markdown",
   "id": "e3caf24a",
   "metadata": {},
   "source": [
    "#### So far so good, so what?\n",
    "Correlation does not mean causation, but is a good thing to have. Now I will try to support the outcomes of the statistical significance test using some other methods."
   ]
  },
  {
   "cell_type": "markdown",
   "id": "5f083fbf",
   "metadata": {},
   "source": [
    "### 2.2 - Payment Retention Analysis Over Time"
   ]
  },
  {
   "cell_type": "markdown",
   "id": "9d045f7e",
   "metadata": {},
   "source": [
    "This analysis uses only payment retention metrics. My aim here is to analyze if retention over time increases, and if so, how much it increases based on the group. It is a time series analysis on the simpler side, without complex datetime variables. "
   ]
  },
  {
   "cell_type": "code",
   "execution_count": 30,
   "id": "7cca4b4f",
   "metadata": {},
   "outputs": [
    {
     "data": {
      "image/png": "[encoded data removed]",
      "text/plain": [
       "<Figure size 1200x700 with 1 Axes>"
      ]
     },
     "metadata": {},
     "output_type": "display_data"
    },
    {
     "data": {
      "text/html": [
       "<div>\n",
       "<style scoped>\n",
       "    .dataframe tbody tr th:only-of-type {\n",
       "        vertical-align: middle;\n",
       "    }\n",
       "\n",
       "    .dataframe tbody tr th {\n",
       "        vertical-align: top;\n",
       "    }\n",
       "\n",
       "    .dataframe thead th {\n",
       "        text-align: right;\n",
       "    }\n",
       "</style>\n",
       "<table border=\"1\" class=\"dataframe\">\n",
       "  <thead>\n",
       "    <tr style=\"text-align: right;\">\n",
       "      <th></th>\n",
       "      <th>Days</th>\n",
       "      <th>Control Rate</th>\n",
       "      <th>Treatment Rate</th>\n",
       "      <th>Percent Improvement</th>\n",
       "    </tr>\n",
       "  </thead>\n",
       "  <tbody>\n",
       "    <tr>\n",
       "      <th>0</th>\n",
       "      <td>1</td>\n",
       "      <td>0.223464</td>\n",
       "      <td>0.262326</td>\n",
       "      <td>17.390854</td>\n",
       "    </tr>\n",
       "    <tr>\n",
       "      <th>1</th>\n",
       "      <td>7</td>\n",
       "      <td>0.229628</td>\n",
       "      <td>0.271923</td>\n",
       "      <td>18.418913</td>\n",
       "    </tr>\n",
       "    <tr>\n",
       "      <th>2</th>\n",
       "      <td>30</td>\n",
       "      <td>0.232518</td>\n",
       "      <td>0.278133</td>\n",
       "      <td>19.618029</td>\n",
       "    </tr>\n",
       "    <tr>\n",
       "      <th>3</th>\n",
       "      <td>60</td>\n",
       "      <td>0.236563</td>\n",
       "      <td>0.284720</td>\n",
       "      <td>20.356636</td>\n",
       "    </tr>\n",
       "    <tr>\n",
       "      <th>4</th>\n",
       "      <td>90</td>\n",
       "      <td>0.239068</td>\n",
       "      <td>0.287354</td>\n",
       "      <td>20.197860</td>\n",
       "    </tr>\n",
       "  </tbody>\n",
       "</table>\n",
       "</div>"
      ],
      "text/plain": [
       "   Days  Control Rate  Treatment Rate  Percent Improvement\n",
       "0     1      0.223464        0.262326            17.390854\n",
       "1     7      0.229628        0.271923            18.418913\n",
       "2    30      0.232518        0.278133            19.618029\n",
       "3    60      0.236563        0.284720            20.356636\n",
       "4    90      0.239068        0.287354            20.197860"
      ]
     },
     "execution_count": 30,
     "metadata": {},
     "output_type": "execute_result"
    }
   ],
   "source": [
    "retention_metrics = ['P1_During_Test', 'P7_During_Test', 'P30_During_Test', 'P60_During_Test', 'P90_During_Test']\n",
    "retention_days = [1, 7, 30, 60, 90]\n",
    "\n",
    "retention_data = pd.DataFrame({\n",
    "    'Days': retention_days,\n",
    "    'Control Rate': [df_to_use.loc[m, 'Control']/control_users for m in retention_metrics],\n",
    "    'Treatment Rate': [df_to_use.loc[m, 'Treatment']/treatment_users for m in retention_metrics]\n",
    "})\n",
    "\n",
    "retention_data['Percent Improvement'] = ((retention_data['Treatment Rate'] - retention_data['Control Rate']) / \n",
    "                                        retention_data['Control Rate']) * 100\n",
    "\n",
    "plt.figure(figsize=(12, 7))\n",
    "plt.plot(retention_data['Days'], retention_data['Control Rate'], 'o-', label='Control', linewidth=2)\n",
    "plt.plot(retention_data['Days'], retention_data['Treatment Rate'], 'o-', label='Treatment', linewidth=2)\n",
    "\n",
    "for i, row in retention_data.iterrows():\n",
    "    plt.annotate(f\"{row['Percent Improvement']:.1f}%\", \n",
    "                xy=(row['Days'], row['Treatment Rate']),\n",
    "                xytext=(5, 10), textcoords='offset points',\n",
    "                arrowprops=dict(arrowstyle='->', connectionstyle='arc3,rad=.2'))\n",
    "\n",
    "plt.xlabel('Days Since Payment')\n",
    "plt.ylabel('Retention Rate')\n",
    "plt.title('Payment Retention Over Time')\n",
    "plt.grid(True, alpha=0.3)\n",
    "plt.legend()\n",
    "plt.tight_layout()\n",
    "plt.show()\n",
    "\n",
    "retention_data"
   ]
  },
  {
   "cell_type": "markdown",
   "id": "07e6a91f",
   "metadata": {},
   "source": [
    "**What can we observe from this plot?**\n",
    "- Lines are flat or gradually increasing for both groups. This can be accepted as the success of the service/provider.\n",
    "- Treatment group has a higher performance for all metrics. Here the percentage values over the orange line indicates the percentage difference between the groups.\n",
    "- The gap between groups almost always increases. There is an incredibly small drop at the last part of the plot but it seems to be nothing to worry about. This fact actually can be accepted in the favor of 3DS being a \"quality filter\" effect, retaining more valuable customers.\n"
   ]
  },
  {
   "cell_type": "markdown",
   "id": "b9e809e6",
   "metadata": {},
   "source": [
    "### 2.3 - Quantitative Trade-off Assessment"
   ]
  },
  {
   "cell_type": "code",
   "execution_count": 31,
   "id": "e8fdd35e",
   "metadata": {},
   "outputs": [
    {
     "name": "stdout",
     "output_type": "stream",
     "text": [
      "Fraud-Refund Trade-off Analysis:\n"
     ]
    },
    {
     "data": {
      "text/html": [
       "<div>\n",
       "<style scoped>\n",
       "    .dataframe tbody tr th:only-of-type {\n",
       "        vertical-align: middle;\n",
       "    }\n",
       "\n",
       "    .dataframe tbody tr th {\n",
       "        vertical-align: top;\n",
       "    }\n",
       "\n",
       "    .dataframe thead th {\n",
       "        text-align: right;\n",
       "    }\n",
       "</style>\n",
       "<table border=\"1\" class=\"dataframe\">\n",
       "  <thead>\n",
       "    <tr style=\"text-align: right;\">\n",
       "      <th></th>\n",
       "      <th>Metric</th>\n",
       "      <th>Control Count</th>\n",
       "      <th>Treatment Count</th>\n",
       "      <th>Control Rate (per 1000)</th>\n",
       "      <th>Treatment Rate (per 1000)</th>\n",
       "      <th>Net Change</th>\n",
       "      <th>Percent Change</th>\n",
       "    </tr>\n",
       "  </thead>\n",
       "  <tbody>\n",
       "    <tr>\n",
       "      <th>0</th>\n",
       "      <td>Suspended Accounts</td>\n",
       "      <td>506.0</td>\n",
       "      <td>382.0</td>\n",
       "      <td>97.476401</td>\n",
       "      <td>71.885585</td>\n",
       "      <td>-124.0</td>\n",
       "      <td>-26.253345</td>\n",
       "    </tr>\n",
       "    <tr>\n",
       "      <th>1</th>\n",
       "      <td>Refund Requests</td>\n",
       "      <td>165.0</td>\n",
       "      <td>205.0</td>\n",
       "      <td>31.785783</td>\n",
       "      <td>38.577343</td>\n",
       "      <td>40.0</td>\n",
       "      <td>21.366659</td>\n",
       "    </tr>\n",
       "  </tbody>\n",
       "</table>\n",
       "</div>"
      ],
      "text/plain": [
       "               Metric  Control Count  Treatment Count  \\\n",
       "0  Suspended Accounts          506.0            382.0   \n",
       "1     Refund Requests          165.0            205.0   \n",
       "\n",
       "   Control Rate (per 1000)  Treatment Rate (per 1000)  Net Change  \\\n",
       "0                97.476401                  71.885585      -124.0   \n",
       "1                31.785783                  38.577343        40.0   \n",
       "\n",
       "   Percent Change  \n",
       "0      -26.253345  \n",
       "1       21.366659  "
      ]
     },
     "metadata": {},
     "output_type": "display_data"
    },
    {
     "name": "stdout",
     "output_type": "stream",
     "text": [
      "For every additional refund, approximately 3.10 fraudulent accounts were prevented\n"
     ]
    }
   ],
   "source": [
    "suspended_control = df_to_use.loc['suspended_user_counts', 'Control']\n",
    "suspended_treatment = df_to_use.loc['suspended_user_counts', 'Treatment']\n",
    "refund_control = df_to_use.loc['refund_users', 'Control']\n",
    "refund_treatment = df_to_use.loc['refund_users', 'Treatment']\n",
    "\n",
    "suspended_diff = suspended_treatment - suspended_control\n",
    "refund_diff = refund_treatment - refund_control\n",
    "\n",
    "# per 1000 user rates\n",
    "suspended_control_rate = (suspended_control / control_users) * 1000\n",
    "suspended_treatment_rate = (suspended_treatment / treatment_users) * 1000\n",
    "refund_control_rate = (refund_control / control_users) * 1000\n",
    "refund_treatment_rate = (refund_treatment / treatment_users) * 1000\n",
    "\n",
    "tradeoff_data = pd.DataFrame({\n",
    "    'Metric': ['Suspended Accounts', 'Refund Requests'],\n",
    "    'Control Count': [suspended_control, refund_control],\n",
    "    'Treatment Count': [suspended_treatment, refund_treatment],\n",
    "    'Control Rate (per 1000)': [suspended_control_rate, refund_control_rate],\n",
    "    'Treatment Rate (per 1000)': [suspended_treatment_rate, refund_treatment_rate],\n",
    "    'Net Change': [suspended_diff, refund_diff],\n",
    "    'Percent Change': [\n",
    "        ((suspended_treatment_rate - suspended_control_rate) / suspended_control_rate) * 100,\n",
    "        ((refund_treatment_rate - refund_control_rate) / refund_control_rate) * 100\n",
    "    ]\n",
    "})\n",
    "\n",
    "# fraud-refund ratio (how many fewer frauds per additional refund)\n",
    "if refund_diff > 0:\n",
    "    fraud_refund_ratio = abs(suspended_diff) / refund_diff\n",
    "    interpretation = f\"For every additional refund, approximately {fraud_refund_ratio:.2f} fraudulent accounts were prevented\"\n",
    "else:\n",
    "    fraud_refund_ratio = float('inf')\n",
    "    interpretation = \"3DS reduced fraud without increasing refunds\"\n",
    "\n",
    "print(\"Fraud-Refund Trade-off Analysis:\")\n",
    "display(tradeoff_data)\n",
    "print(interpretation)"
   ]
  },
  {
   "cell_type": "markdown",
   "id": "8222a7ff",
   "metadata": {},
   "source": [
    "This is actually happy news. Let's interpret the results:\n",
    "- We see a negative value in suspended accounts' \"Net Change\", which indicates fewer fraudulent activities. The percent change shows the relative magnitude of fraud reduction.\n",
    "- We see a positive number in refund requests' \"Net Change\", this actually indicates a **trade-off** for this method. This means, the method can be **improved.**\n",
    "\n",
    "For the decision of this trade-off, I choose to use a ROI (return on investment) ratio, which is the fraud-refund ratio in this case. I get a ratio of 3.10. This is a high ratio, which indicates that the security benefit likely outweighs the friction cost."
   ]
  },
  {
   "cell_type": "markdown",
   "id": "89d3d7cd",
   "metadata": {},
   "source": [
    "## 3- Final Remarks"
   ]
  },
  {
   "cell_type": "markdown",
   "id": "36fe3cb3",
   "metadata": {},
   "source": [
    "Considering all findings, my decision is that the 3DS should be implemented. It seems to be certainly in help of prevention of fraudulent actions. But in order to make it more robust, it can be improved. It can be optimized to reduce false declines, or maybe implemented in a hybrid manner, such as enforcing 3DS for high-risk geographies/behavior. "
   ]
  }
 ],
 "metadata": {
  "kernelspec": {
   "display_name": "Python 3",
   "language": "python",
   "name": "python3"
  },
  "language_info": {
   "codemirror_mode": {
    "name": "ipython",
    "version": 3
   },
   "file_extension": ".py",
   "mimetype": "text/x-python",
   "name": "python",
   "nbconvert_exporter": "python",
   "pygments_lexer": "ipython3",
   "version": "3.10.0"
  }
 },
 "nbformat": 4,
 "nbformat_minor": 5
}
